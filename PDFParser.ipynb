{
 "cells": [
  {
   "cell_type": "code",
   "execution_count": null,
   "metadata": {},
   "outputs": [],
   "source": [
    "from pdfminer.high_level import extract_pages\n",
    "from pdfminer.layout import LTTextContainer\n",
    "ResumePath=\"D:/Users/Sankalp/Documents/Work/MyLearning/Python/Parser/AI_ML_TrainTest_DataSet/Product Manager/\"\n",
    "ResumeFile=\"Abhijit_Tadke_APM_Paddle_Lift.pdf\"\n",
    "path=ResumePath+ResumeFile\n",
    "def Parse(path):\n",
    "    for page_layout in extract_pages(\"test.pdf\"):\n",
    "        for element in page_layout:\n",
    "            if isinstance(element, LTTextContainer):\n",
    "                print(element.get_text())\n",
    "\n",
    "Parse(path)"
   ]
  }
 ],
 "metadata": {
  "language_info": {
   "name": "python"
  },
  "orig_nbformat": 4
 },
 "nbformat": 4,
 "nbformat_minor": 2
}
